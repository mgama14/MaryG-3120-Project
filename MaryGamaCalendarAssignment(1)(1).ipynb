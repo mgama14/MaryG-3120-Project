{
 "cells": [
  {
   "cell_type": "markdown",
   "id": "70c94f4c",
   "metadata": {},
   "source": [
    "# Earthquake Calendar\n",
    "\n",
    "Given the two datasets provided on Slack in class, write a program to output a calendar of when earthquakes occurred. Your program should be callable as such:\n",
    "\n",
    "```python\n",
    "# for example, print the earthquake calendar for February 2024.\n",
    "print(earthquake_calendar(2024, 2))   \n",
    "```\n",
    "\n",
    "You should use the `create_full_calendar` function below as a base. Display an `X` instead of the date if no earthquakes occurred on that date.\n",
    "\n",
    "Prepare this for _both_ datasets. _(Hint: the `time` field in the smaller dataset is some type of numeric representation for a time... maybe a \"timestamp\")"
   ]
  },
  {
   "cell_type": "code",
   "execution_count": 42,
   "id": "1f6c6e0d",
   "metadata": {},
   "outputs": [
    {
     "name": "stdout",
     "output_type": "stream",
     "text": [
      "    December 2023\n",
      "Su Mo Tu We Th Fr Sa\n",
      "             1  2  3 \n",
      " 4  5  6  7  8  9 10 \n",
      "11 12 13 14 15 16 17 \n",
      "18 19 20 21 22 23 24 \n",
      "25 26 27 28 29  X  X \n",
      "\n"
     ]
    }
   ],
   "source": [
    "import calendar\n",
    "import pandas as pd\n",
    "from datetime import datetime\n",
    "\n",
    "earthquakes_2023_df = pd.read_csv(\"./earthquakes_2023_global.csv\")\n",
    "earthquakes_df = pd.read_csv(\"./earthquakes_dataset.csv\") # Unix timestamp one\n",
    "earthquake_dates = [] # List of dates for earthquakes\n",
    "\n",
    "# Split the string of datetimestamp by delimiter 'T' and use the first half to make datetime value\n",
    "# To make the above datetime value we also needed to supply the format of the date - in this case, thats 'Year-Month-Day' or '%Y-%m-%d'\n",
    "# Now we can extract the date from the datetime value via datetime.date() to store within our container of dates 'earthquake_dates'\n",
    "for time in earthquakes_2023_df.loc[(earthquakes_2023_df[\"type\"] == \"earthquake\")][\"time\"]:\n",
    "    earthquake_dates.append(datetime.strptime(time.split(\"T\")[0], \"%Y-%m-%d\").date())\n",
    "\n",
    "# Figured out how to convert from unix timestamp to datetime via:\n",
    "# https://stackoverflow.com/questions/3682748/converting-unix-timestamp-string-to-readable-date\n",
    "# Important that we convert the milliseconds timestamp to a seconds timestamp by dividing by 1000\n",
    "# This is because datetime.utcfromtimestamp only takes timestamps in the format of seconds, while our dataset has it stored in milliseconds\n",
    "# Other than the coversion from unix timestamp to datetime, do exact same thing as above\n",
    "for time in earthquakes_df.loc[(earthquakes_df[\"type\"] == \"earthquake\")][\"time\"]:\n",
    "    earthquake_dates.append(datetime.utcfromtimestamp(float(time) / 1000).date())\n",
    "\n",
    "def earthquake_calendar(year, month):\n",
    "    first_weekday, days_in_month = calendar.monthrange(year, month)\n",
    "    \n",
    "    day_counter = 1\n",
    "    output_str = f\"    {calendar.month_name[month]} {year}\\n\"\n",
    "    output_str += \"Su Mo Tu We Th Fr Sa\\n\"\n",
    "    \n",
    "    # Add initial spacing for the first week\n",
    "    output_str += \"   \" * first_weekday\n",
    "    \n",
    "    while day_counter <= days_in_month:\n",
    "        for weekday in range(7):\n",
    "            if day_counter > days_in_month:\n",
    "                break  # Break the loop if the last day is reached\n",
    "\n",
    "            # Figured out fastest way to check if list contains a certain value via:\n",
    "            # https://stackoverflow.com/questions/7571635/fastest-way-to-check-if-a-value-exists-in-a-list\n",
    "            # Use local date variables to make datetime value\n",
    "            # Then we can extract the date from said value to see if the date is within our 'earthquake_dates' container\n",
    "            is_earthquake_day = datetime(year=year, month=month, day=day_counter).date() in earthquake_dates\n",
    "\n",
    "            # Print day number if earthquake occured on that day\n",
    "            if is_earthquake_day:\n",
    "                output_str += f\"{day_counter:2d} \"\n",
    "            # Otherwise print X\n",
    "            else:\n",
    "                output_str += f\" X \"\n",
    "            \n",
    "            # Check if we need to move to the next line\n",
    "            if (first_weekday + day_counter) % 7 == 0:\n",
    "                output_str += \"\\n\"\n",
    "            \n",
    "            day_counter += 1\n",
    "    \n",
    "    return output_str\n",
    "\n",
    "# Create and print the full calendar\n",
    "print(earthquake_calendar(2023, 12))\n"
   ]
  },
  {
   "cell_type": "code",
   "execution_count": null,
   "id": "d684d032-14cf-4c47-8bb0-6dfad6a21b3e",
   "metadata": {},
   "outputs": [],
   "source": []
  }
 ],
 "metadata": {
  "kernelspec": {
   "display_name": "Python 3 (ipykernel)",
   "language": "python",
   "name": "python3"
  },
  "language_info": {
   "codemirror_mode": {
    "name": "ipython",
    "version": 3
   },
   "file_extension": ".py",
   "mimetype": "text/x-python",
   "name": "python",
   "nbconvert_exporter": "python",
   "pygments_lexer": "ipython3",
   "version": "3.11.8"
  }
 },
 "nbformat": 4,
 "nbformat_minor": 5
}
